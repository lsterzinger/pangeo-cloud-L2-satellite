{
 "cells": [
  {
   "cell_type": "code",
   "execution_count": 27,
   "id": "organized-lesson",
   "metadata": {},
   "outputs": [],
   "source": [
    "import xarray as xr\n",
    "import numpy as np\n",
    "import matplotlib.pyplot as plt\n",
    "import s3fs\n",
    "import datetime as dt\n",
    "\n",
    "import logging\n",
    "import fsspec\n",
    "import fsspec.utils\n",
    "import fsspec.core\n",
    "import fsspec.implementations.reference as refs\n",
    "import intake\n",
    "import intake_xarray\n",
    "import json\n",
    "from tqdm import tqdm\n",
    "from glob import glob\n",
    "# import \"fsspec-reference-maker\"?"
   ]
  },
  {
   "cell_type": "code",
   "execution_count": 28,
   "id": "original-major",
   "metadata": {},
   "outputs": [],
   "source": [
    "import fsspec_reference_maker.hdf as fsshdf"
   ]
  },
  {
   "cell_type": "code",
   "execution_count": 31,
   "id": "twelve-mystery",
   "metadata": {},
   "outputs": [],
   "source": [
    "def get_geo_data(sat,lyr,idyjl):\n",
    "    # arguments\n",
    "    # sat   goes-east,goes-west,himawari\n",
    "    # lyr   year\n",
    "    # idyjl day of year\n",
    "    \n",
    "    d = dt.datetime(lyr,1,1) + dt.timedelta(days=idyjl)\n",
    "    fs = s3fs.S3FileSystem(anon=True) #connect to s3 bucket!\n",
    "\n",
    "    #create strings for the year and julian day\n",
    "    imon,idym=d.month,d.day\n",
    "    syr,sjdy,smon,sdym = str(lyr).zfill(4),str(idyjl).zfill(3),str(imon).zfill(2),str(idym).zfill(2)\n",
    "    \n",
    "    #use glob to list all the files in the directory\n",
    "    if sat=='goes-east':\n",
    "        file_location,var = fs.glob('s3://noaa-goes16/ABI-L2-SSTF/'+syr+'/'+sjdy+'/*/*.nc'),'SST'\n",
    "    if sat=='goes-west':\n",
    "        file_location,var = fs.glob('s3://noaa-goes17/ABI-L2-SSTF/'+syr+'/'+sjdy+'/*/*.nc'),'SST'\n",
    "    if sat=='himawari':\n",
    "        file_location,var = fs.glob('s3://noaa-himawari8/AHI-L2-FLDK-SST/'+syr+'/'+smon+'/'+sdym+'/*/*L2P*.nc'),'sea_surface_temperature'\n",
    "    \n",
    "    return file_location"
   ]
  },
  {
   "cell_type": "code",
   "execution_count": 34,
   "id": "intense-forth",
   "metadata": {},
   "outputs": [],
   "source": [
    "flist = get_geo_data(\"goes-east\", 2020, 210)\n",
    "url = [\"s3://\" + f for f in flist]"
   ]
  },
  {
   "cell_type": "code",
   "execution_count": null,
   "id": "european-proposal",
   "metadata": {},
   "outputs": [
    {
     "name": "stderr",
     "output_type": "stream",
     "text": [
      "  4%|▍         | 1/24 [00:23<08:54, 23.23s/it]"
     ]
    }
   ],
   "source": [
    "# This could easily be pa./jsons/ized with Dask\n",
    "\n",
    "so = dict(\n",
    "    mode=\"rb\", anon=True, default_fill_cache=False, default_cache_type=\"none\"\n",
    ")\n",
    "\n",
    "for u in tqdm(url):\n",
    "    with fsspec.open(u, **so) as f:\n",
    "        h5chunks = fsshdf.SingleHdf5ToZarr(f, u, xarray=True)\n",
    "        j = h5chunks.translate()\n",
    "        fname = u.split(\"/\")[7]\n",
    "        with open(f\"./jsons/{fname}.json\", \"w\") as fout:\n",
    "            fout.write(json.dumps(j))\n"
   ]
  },
  {
   "cell_type": "code",
   "execution_count": null,
   "id": "sunrise-victory",
   "metadata": {},
   "outputs": [],
   "source": []
  }
 ],
 "metadata": {
  "kernelspec": {
   "display_name": "Python 3",
   "language": "python",
   "name": "python3"
  },
  "language_info": {
   "codemirror_mode": {
    "name": "ipython",
    "version": 3
   },
   "file_extension": ".py",
   "mimetype": "text/x-python",
   "name": "python",
   "nbconvert_exporter": "python",
   "pygments_lexer": "ipython3",
   "version": "3.8.6"
  }
 },
 "nbformat": 4,
 "nbformat_minor": 5
}
