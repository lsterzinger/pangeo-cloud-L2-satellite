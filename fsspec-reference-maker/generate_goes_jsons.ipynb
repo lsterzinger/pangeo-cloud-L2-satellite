{
 "cells": [
  {
   "cell_type": "code",
   "execution_count": 9,
   "id": "ceramic-pittsburgh",
   "metadata": {},
   "outputs": [],
   "source": [
    "import xarray as xr\n",
    "import numpy as np\n",
    "import matplotlib.pyplot as plt\n",
    "import s3fs\n",
    "import datetime as dt\n",
    "\n",
    "import logging\n",
    "import fsspec\n",
    "import fsspec.utils\n",
    "import fsspec.core\n",
    "import fsspec.implementations.reference as refs\n",
    "import intake\n",
    "import intake_xarray\n",
    "import json\n",
    "from tqdm import tqdm\n",
    "from glob import glob\n",
    "# import \"fsspec-reference-maker\"?\n",
    "import dask\n",
    "from dask.distributed import Client"
   ]
  },
  {
   "cell_type": "code",
   "execution_count": 2,
   "id": "present-pursuit",
   "metadata": {},
   "outputs": [],
   "source": [
    "import fsspec_reference_maker.hdf as fsshdf"
   ]
  },
  {
   "cell_type": "code",
   "execution_count": 3,
   "id": "quiet-reflection",
   "metadata": {},
   "outputs": [],
   "source": [
    "def get_geo_data(sat,lyr,idyjl):\n",
    "    # arguments\n",
    "    # sat   goes-east,goes-west,himawari\n",
    "    # lyr   year\n",
    "    # idyjl day of year\n",
    "    \n",
    "    d = dt.datetime(lyr,1,1) + dt.timedelta(days=idyjl)\n",
    "    fs = s3fs.S3FileSystem(anon=True) #connect to s3 bucket!\n",
    "\n",
    "    #create strings for the year and julian day\n",
    "    imon,idym=d.month,d.day\n",
    "    syr,sjdy,smon,sdym = str(lyr).zfill(4),str(idyjl).zfill(3),str(imon).zfill(2),str(idym).zfill(2)\n",
    "    \n",
    "    #use glob to list all the files in the directory\n",
    "    if sat=='goes-east':\n",
    "        file_location,var = fs.glob('s3://noaa-goes16/ABI-L2-SSTF/'+syr+'/'+sjdy+'/*/*.nc'),'SST'\n",
    "    if sat=='goes-west':\n",
    "        file_location,var = fs.glob('s3://noaa-goes17/ABI-L2-SSTF/'+syr+'/'+sjdy+'/*/*.nc'),'SST'\n",
    "    if sat=='himawari':\n",
    "        file_location,var = fs.glob('s3://noaa-himawari8/AHI-L2-FLDK-SST/'+syr+'/'+smon+'/'+sdym+'/*/*L2P*.nc'),'sea_surface_temperature'\n",
    "    \n",
    "    return file_location"
   ]
  },
  {
   "cell_type": "code",
   "execution_count": 4,
   "id": "million-sapphire",
   "metadata": {},
   "outputs": [],
   "source": [
    "flist = get_geo_data(\"goes-east\", 2020, 210)\n",
    "url = [\"s3://\" + f for f in flist]"
   ]
  },
  {
   "cell_type": "code",
   "execution_count": 7,
   "id": "composed-official",
   "metadata": {},
   "outputs": [
    {
     "data": {
      "text/html": [
       "<table style=\"border: 2px solid white;\">\n",
       "<tr>\n",
       "<td style=\"vertical-align: top; border: 0px solid white\">\n",
       "<h3 style=\"text-align: left;\">Client</h3>\n",
       "<ul style=\"text-align: left; list-style: none; margin: 0; padding: 0;\">\n",
       "  <li><b>Scheduler: </b>tcp://127.0.0.1:36231</li>\n",
       "  <li><b>Dashboard: </b><a href='/proxy/8787/status' target='_blank'>/proxy/8787/status</a></li>\n",
       "</ul>\n",
       "</td>\n",
       "<td style=\"vertical-align: top; border: 0px solid white\">\n",
       "<h3 style=\"text-align: left;\">Cluster</h3>\n",
       "<ul style=\"text-align: left; list-style:none; margin: 0; padding: 0;\">\n",
       "  <li><b>Workers: </b>4</li>\n",
       "  <li><b>Cores: </b>4</li>\n",
       "  <li><b>Memory: </b>7.52 GB</li>\n",
       "</ul>\n",
       "</td>\n",
       "</tr>\n",
       "</table>"
      ],
      "text/plain": [
       "<Client: 'tcp://127.0.0.1:36231' processes=4 threads=4, memory=7.52 GB>"
      ]
     },
     "execution_count": 7,
     "metadata": {},
     "output_type": "execute_result"
    }
   ],
   "source": [
    "client = Client()\n",
    "client"
   ]
  },
  {
   "cell_type": "code",
   "execution_count": 26,
   "id": "characteristic-share",
   "metadata": {},
   "outputs": [],
   "source": [
    "# This could easily be pa./jsons/ized with Dask\n",
    "# @dask.delayed\n",
    "def gen_json(urllist):\n",
    "    so = dict(\n",
    "        mode=\"rb\", anon=True, default_fill_cache=False, default_cache_type=\"none\"\n",
    "    )\n",
    "\n",
    "    for u in urllist:\n",
    "        with fsspec.open(u, **so) as f:\n",
    "            h5chunks = fsshdf.SingleHdf5ToZarr(f, u, xarray=True)\n",
    "            j = h5chunks.translate()\n",
    "            fname = u.split(\"/\")[7]\n",
    "            with open(f\"./jsons/{fname}.json\", \"w\") as fout:\n",
    "                fout.write(json.dumps(j))\n"
   ]
  },
  {
   "cell_type": "markdown",
   "id": "considered-movement",
   "metadata": {},
   "source": [
    "### Test in serial"
   ]
  },
  {
   "cell_type": "code",
   "execution_count": null,
   "id": "auburn-acrylic",
   "metadata": {},
   "outputs": [],
   "source": [
    "%%time\n",
    "gen_json(url)"
   ]
  },
  {
   "cell_type": "markdown",
   "id": "peaceful-bronze",
   "metadata": {},
   "source": [
    "### Test with Dask"
   ]
  },
  {
   "cell_type": "code",
   "execution_count": 32,
   "id": "future-clothing",
   "metadata": {},
   "outputs": [
    {
     "name": "stdout",
     "output_type": "stream",
     "text": [
      "CPU times: user 555 µs, sys: 0 ns, total: 555 µs\n",
      "Wall time: 468 µs\n"
     ]
    }
   ],
   "source": [
    "%%time\n",
    "func = dask.delayed(gen_json)(url)"
   ]
  },
  {
   "cell_type": "markdown",
   "id": "pleased-angola",
   "metadata": {},
   "source": [
    "#### I am not using dask correctly apparently"
   ]
  },
  {
   "cell_type": "code",
   "execution_count": 31,
   "id": "parallel-roots",
   "metadata": {
    "collapsed": true,
    "jupyter": {
     "outputs_hidden": true
    }
   },
   "source": [
    "# %%time\n",
    "# func.compute()"
   ]
  },
  {
   "cell_type": "code",
   "execution_count": null,
   "id": "municipal-adoption",
   "metadata": {},
   "outputs": [],
   "source": []
  }
 ],
 "metadata": {
  "kernelspec": {
   "display_name": "Python 3",
   "language": "python",
   "name": "python3"
  },
  "language_info": {
   "codemirror_mode": {
    "name": "ipython",
    "version": 3
   },
   "file_extension": ".py",
   "mimetype": "text/x-python",
   "name": "python",
   "nbconvert_exporter": "python",
   "pygments_lexer": "ipython3",
   "version": "3.8.6"
  }
 },
 "nbformat": 4,
 "nbformat_minor": 5
}
