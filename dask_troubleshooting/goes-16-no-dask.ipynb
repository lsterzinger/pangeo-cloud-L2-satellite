{
 "cells": [
  {
   "cell_type": "code",
   "execution_count": 1,
   "id": "dedicated-newsletter",
   "metadata": {},
   "outputs": [],
   "source": [
    "import xarray as xr\n",
    "import matplotlib.pyplot as plt\n",
    "import s3fs"
   ]
  },
  {
   "cell_type": "code",
   "execution_count": 20,
   "id": "ignored-prevention",
   "metadata": {},
   "outputs": [],
   "source": [
    "fs = s3fs.S3FileSystem(anon=True)\n",
    "flist = fs.glob(\"s3://noaa-goes16/ABI-L2-SSTF/2020/210/*/*.nc\")"
   ]
  },
  {
   "cell_type": "code",
   "execution_count": 21,
   "id": "julian-hybrid",
   "metadata": {},
   "outputs": [],
   "source": [
    "file_objs = [fs.open(file) for file in flist]"
   ]
  },
  {
   "cell_type": "code",
   "execution_count": 22,
   "id": "banner-federation",
   "metadata": {},
   "outputs": [
    {
     "name": "stdout",
     "output_type": "stream",
     "text": [
      "CPU times: user 11.4 s, sys: 4.54 s, total: 15.9 s\n",
      "Wall time: 2min 23s\n"
     ]
    }
   ],
   "source": [
    "%%time\n",
    "ds = xr.open_mfdataset(file_objs, combine='nested', concat_dim='t')"
   ]
  },
  {
   "cell_type": "code",
   "execution_count": null,
   "id": "senior-practitioner",
   "metadata": {},
   "outputs": [],
   "source": []
  }
 ],
 "metadata": {
  "kernelspec": {
   "display_name": "Python 3",
   "language": "python",
   "name": "python3"
  },
  "language_info": {
   "codemirror_mode": {
    "name": "ipython",
    "version": 3
   },
   "file_extension": ".py",
   "mimetype": "text/x-python",
   "name": "python",
   "nbconvert_exporter": "python",
   "pygments_lexer": "ipython3",
   "version": "3.8.6"
  }
 },
 "nbformat": 4,
 "nbformat_minor": 5
}
